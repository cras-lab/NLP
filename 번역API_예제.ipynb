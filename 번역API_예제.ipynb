{
  "nbformat": 4,
  "nbformat_minor": 0,
  "metadata": {
    "colab": {
      "provenance": [],
      "authorship_tag": "ABX9TyNyRh/Q0oCFDrAN9co9hxnh",
      "include_colab_link": true
    },
    "kernelspec": {
      "name": "python3",
      "display_name": "Python 3"
    },
    "language_info": {
      "name": "python"
    }
  },
  "cells": [
    {
      "cell_type": "markdown",
      "metadata": {
        "id": "view-in-github",
        "colab_type": "text"
      },
      "source": [
        "<a href=\"https://colab.research.google.com/github/cras-lab/NLP/blob/main/%EB%B2%88%EC%97%ADAPI_%EC%98%88%EC%A0%9C.ipynb\" target=\"_parent\"><img src=\"https://colab.research.google.com/assets/colab-badge.svg\" alt=\"Open In Colab\"/></a>"
      ]
    },
    {
      "cell_type": "markdown",
      "source": [
        "구글 번역기 라이브러리를 설치한다."
      ],
      "metadata": {
        "id": "SlNorsXUhF6S"
      }
    },
    {
      "cell_type": "code",
      "execution_count": 6,
      "metadata": {
        "id": "lJVQSPJHfSe9"
      },
      "outputs": [],
      "source": [
        "pip install  -q googletrans==4.0.0-rc1"
      ]
    },
    {
      "cell_type": "markdown",
      "source": [
        "구글 번역시를 임포트 한다."
      ],
      "metadata": {
        "id": "mcSQPxvshNOR"
      }
    },
    {
      "cell_type": "code",
      "source": [
        "import googletrans\n",
        "\n"
      ],
      "metadata": {
        "id": "Z2Km_c-VgwVV"
      },
      "execution_count": 7,
      "outputs": []
    },
    {
      "cell_type": "markdown",
      "source": [
        "번역기 인스턴스를 생성한다."
      ],
      "metadata": {
        "id": "GsYrz3FmhcOw"
      }
    },
    {
      "cell_type": "code",
      "source": [
        "translator = googletrans.Translator()"
      ],
      "metadata": {
        "id": "QZlU3MWAh0oK"
      },
      "execution_count": 8,
      "outputs": []
    },
    {
      "cell_type": "markdown",
      "source": [
        "한글에서 영어로 번역할 문장 하나와, 영어에서 한글로 번역할 문장하나를 정의해 본다. "
      ],
      "metadata": {
        "id": "Mbkma6JJhg_F"
      }
    },
    {
      "cell_type": "code",
      "source": [
        "Kor = \"이 문장은 구글 번역기의 성능을 보기 위한 것이다.\" \n",
        "Eng = \"This is AI class on natural language processing by professor byung uk Lee\""
      ],
      "metadata": {
        "id": "aavB1mABh_HV"
      },
      "execution_count": 15,
      "outputs": []
    },
    {
      "cell_type": "markdown",
      "source": [
        "타겟 언어를 설정한 후 번역을 수행한다."
      ],
      "metadata": {
        "id": "DpBhqX-biSdQ"
      }
    },
    {
      "cell_type": "code",
      "source": [
        "result1 = translator.translate(Kor, dest='en')\n",
        "result2 = translator.translate(Eng, dest='ko')"
      ],
      "metadata": {
        "id": "yLA6sBM-hpiU"
      },
      "execution_count": 16,
      "outputs": []
    },
    {
      "cell_type": "markdown",
      "source": [
        "결과를 출력해 본다."
      ],
      "metadata": {
        "id": "mAz05gdmhZN1"
      }
    },
    {
      "cell_type": "code",
      "source": [
        "print( Kor, \" ==> \" , result1.text )\n",
        "print( Eng, \" ==> \" , result2.text )"
      ],
      "metadata": {
        "colab": {
          "base_uri": "https://localhost:8080/"
        },
        "id": "SaA1Szm4igec",
        "outputId": "8b7d8170-ab88-4798-b781-cf89e48688f0"
      },
      "execution_count": 17,
      "outputs": [
        {
          "output_type": "stream",
          "name": "stdout",
          "text": [
            "이 문장은 구글 번역기의 성능을 보기 위한 것이다.  ==>  This sentence is to see the performance of Google Translator.\n",
            "This is AI class on natural language processing by professor byung uk Lee  ==>  이것은 Byung UK Lee 교수의 자연 언어 처리에 관한 AI 클래스입니다.\n"
          ]
        }
      ]
    }
  ]
}
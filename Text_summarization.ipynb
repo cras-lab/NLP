{
  "nbformat": 4,
  "nbformat_minor": 0,
  "metadata": {
    "colab": {
      "provenance": [],
      "include_colab_link": true
    },
    "kernelspec": {
      "name": "python3",
      "display_name": "Python 3"
    },
    "language_info": {
      "name": "python"
    }
  },
  "cells": [
    {
      "cell_type": "markdown",
      "metadata": {
        "id": "view-in-github",
        "colab_type": "text"
      },
      "source": [
        "<a href=\"https://colab.research.google.com/github/cras-lab/NLP/blob/main/Text_summarization.ipynb\" target=\"_parent\"><img src=\"https://colab.research.google.com/assets/colab-badge.svg\" alt=\"Open In Colab\"/></a>"
      ]
    },
    {
      "cell_type": "markdown",
      "source": [
        "# Hugging Face 라이브러리를 이용하여, Text Summary 수행\n",
        "먼저 트랜스포머 라이브러리를 설치한다."
      ],
      "metadata": {
        "id": "lCozl2_oP7kN"
      }
    },
    {
      "cell_type": "code",
      "execution_count": null,
      "metadata": {
        "id": "FvO-Hg3JP4Sx"
      },
      "outputs": [],
      "source": [
        "pip install -q transformers"
      ]
    },
    {
      "cell_type": "markdown",
      "source": [
        "요약을 수행할 문장 정의"
      ],
      "metadata": {
        "id": "3CF3D7G2QHzQ"
      }
    },
    {
      "cell_type": "code",
      "source": [
        "text = \"\"\"Dear Amazon, last week I ordered an Optimus Prime action figure \\\n",
        "from your online store in Germany. Unfortunately, when I opened the package, \\\n",
        "I discovered to my horror that I had been sent an action figure of Megatron \\\n",
        "instead! As a lifelong enemy of the Decepticons, I hope you can understand my \\\n",
        "dilemma. To resolve the issue, I demand an exchange of Megatron for the \\\n",
        "Optimus Prime figure I ordered. Enclosed are copies of my records concerning \\\n",
        "this purchase. I expect to hear from you soon. Sincerely, Bumblebee.\"\"\""
      ],
      "metadata": {
        "id": "EbakNwJIQTDB"
      },
      "execution_count": 2,
      "outputs": []
    },
    {
      "cell_type": "markdown",
      "source": [
        "필요한 모듈 임포트 하기"
      ],
      "metadata": {
        "id": "RhmGsPbOs7Jo"
      }
    },
    {
      "cell_type": "code",
      "source": [
        "from transformers import pipeline\n",
        "import pandas as pd"
      ],
      "metadata": {
        "id": "3aw9ArjGtwY6"
      },
      "execution_count": 3,
      "outputs": []
    },
    {
      "cell_type": "markdown",
      "source": [
        "텍스트 요약 수행하고 출력"
      ],
      "metadata": {
        "id": "99AMSFipt3pD"
      }
    },
    {
      "cell_type": "code",
      "source": [
        "summarizer = pipeline(\"summarization\")\n",
        "out = summarizer(text, max_length=60, clean_up_tokenization_spaces=True)\n",
        "print( out[0]['summary_text'])"
      ],
      "metadata": {
        "id": "0LP18bWCtCEp"
      },
      "execution_count": null,
      "outputs": []
    },
    {
      "cell_type": "markdown",
      "source": [
        "다른 예제도 수행해 보자."
      ],
      "metadata": {
        "id": "QU_VO1ni0wf_"
      }
    },
    {
      "cell_type": "code",
      "source": [
        "# Amazon에서 가져온 별 다섯 칭찬글\n",
        "ex1 = \"\"\"This book is pretty much everything you could possibly need for \\\n",
        "learning ML or DL. It covers EVERYTHING to an extraodinarily practical level \\\n",
        "of depth (even the topics you might already know have a lot of useful insights \\\n",
        "that make reading them worth your time) and on top of all GIVES YOU THE EXACT \\\n",
        "PYTHON CODE to run whatever is being explained at the moment, and under the most \\\n",
        "streamlined and optimized best practices for both python and the ML/DL libraries at hand.\\\n",
        "Essential reference book. Highly recommended!\"\"\"\n",
        "\n",
        "# Amazon에서 가져온 별 하나 불만글\n",
        "ex2 = \"\"\"This book is full of great information but is entirely worthless \\\n",
        "for anyone actually trying to learn and not decorate a bookshelf. I write code \\\n",
        "with nano or vs code, this book forces you to use jupyter notebooks and google \\\n",
        "colab and gives no way for you to just sit down and write out your own code , \\\n",
        "I wanted actual code examples and lessons to learn to write my own code, not \\\n",
        "a premade project I boot up and just run. Do not buy if you are interested in learning.\"\"\"\n",
        "\n",
        "out = summarizer(ex1, max_length=60, clean_up_tokenization_spaces=True)\n",
        "print( out[0]['summary_text'])\n",
        "out = summarizer(ex2, max_length=60, clean_up_tokenization_spaces=True)\n",
        "print( out[0]['summary_text'])"
      ],
      "metadata": {
        "id": "UA82GSbm0PPY"
      },
      "execution_count": null,
      "outputs": []
    }
  ]
}
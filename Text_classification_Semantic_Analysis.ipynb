{
  "nbformat": 4,
  "nbformat_minor": 0,
  "metadata": {
    "colab": {
      "provenance": [],
      "authorship_tag": "ABX9TyOF8qXqQ4gd8gs05UTm4vQa",
      "include_colab_link": true
    },
    "kernelspec": {
      "name": "python3",
      "display_name": "Python 3"
    },
    "language_info": {
      "name": "python"
    }
  },
  "cells": [
    {
      "cell_type": "markdown",
      "metadata": {
        "id": "view-in-github",
        "colab_type": "text"
      },
      "source": [
        "<a href=\"https://colab.research.google.com/github/cras-lab/NLP/blob/main/Text_classification_Semantic_Analysis.ipynb\" target=\"_parent\"><img src=\"https://colab.research.google.com/assets/colab-badge.svg\" alt=\"Open In Colab\"/></a>"
      ]
    },
    {
      "cell_type": "markdown",
      "source": [
        "Hugging Face의 transformers를 설치한다."
      ],
      "metadata": {
        "id": "fMixJWe8n7Wx"
      }
    },
    {
      "cell_type": "code",
      "execution_count": null,
      "metadata": {
        "id": "VuGl-xE3mHew"
      },
      "outputs": [],
      "source": [
        "pip install -q transformers"
      ]
    },
    {
      "cell_type": "markdown",
      "source": [
        "감정분류를 테스트 해보기 위한 문장을 정의한다."
      ],
      "metadata": {
        "id": "iDpNmMfNoFfa"
      }
    },
    {
      "cell_type": "code",
      "source": [
        "text = \"\"\"Dear Amazon, last week I ordered an Optimus Prime action figure \\\n",
        "from your online store in Germany. Unfortunately, when I opened the package, \\\n",
        "I discovered to my horror that I had been sent an action figure of Megatron \\\n",
        "instead! As a lifelong enemy of the Decepticons, I hope you can understand my \\\n",
        "dilemma. To resolve the issue, I demand an exchange of Megatron for the \\\n",
        "Optimus Prime figure I ordered. Enclosed are copies of my records concerning \\\n",
        "this purchase. I expect to hear from you soon. Sincerely, Bumblebee.\"\"\""
      ],
      "metadata": {
        "id": "VeV_-7ummJNw"
      },
      "execution_count": 8,
      "outputs": []
    },
    {
      "cell_type": "markdown",
      "source": [
        "분류작업을 위한 엔진과 필요한 모듈을 불러온다."
      ],
      "metadata": {
        "id": "RoDf1Pl0oPRC"
      }
    },
    {
      "cell_type": "code",
      "source": [
        "from transformers import pipeline\n",
        "import pandas as pd\n",
        "classifier = pipeline(\"text-classification\")"
      ],
      "metadata": {
        "id": "rDzG9G0UoKd6"
      },
      "execution_count": null,
      "outputs": []
    },
    {
      "cell_type": "markdown",
      "source": [
        "분류를 시행한 다음 데이터프레임 구조에 담아 출력해 본다."
      ],
      "metadata": {
        "id": "74WoErOcoZsG"
      }
    },
    {
      "cell_type": "code",
      "source": [
        "out =  classifier(text)\n",
        "pd.DataFrame(out)"
      ],
      "metadata": {
        "id": "Z7rkmurBreGm"
      },
      "execution_count": null,
      "outputs": []
    },
    {
      "cell_type": "markdown",
      "source": [
        "아마존 서점에서 가져온 별 다섯 칭찬글과 별 하나 불만글에 대해서도 잘 작동하는지 해 보자."
      ],
      "metadata": {
        "id": "Hm5_dJoSqyZj"
      }
    },
    {
      "cell_type": "code",
      "source": [
        "# Amazon에서 가져온 별 다섯 칭찬글\n",
        "ex1 = \"\"\"This book is pretty much everything you could possibly need for \\\n",
        "learning ML or DL. It covers EVERYTHING to an extraodinarily practical level \\\n",
        "of depth (even the topics you might already know have a lot of useful insights \\\n",
        "that make reading them worth your time) and on top of all GIVES YOU THE EXACT \\\n",
        "PYTHON CODE to run whatever is being explained at the moment, and under the most \\\n",
        "streamlined and optimized best practices for both python and the ML/DL libraries at hand.\\\n",
        "Essential reference book. Highly recommended!\"\"\"\n",
        "\n",
        "# Amazon에서 가져온 별 하나 불만글\n",
        "ex2 = \"\"\"This book is full of great information but is entirely worthless \\\n",
        "for anyone actually trying to learn and not decorate a bookshelf. I write code \\\n",
        "with nano or vs code, this book forces you to use jupyter notebooks and google \\\n",
        "colab and gives no way for you to just sit down and write out your own code , \\\n",
        "I wanted actual code examples and lessons to learn to write my own code, not \\\n",
        "a premade project I boot up and just run. Do not buy if you are interested in learning.\"\"\"\n",
        "\n",
        "out1 =  classifier(ex1)\n",
        "out2 =  classifier(ex2)\n",
        "\n",
        "pd.DataFrame([out1, out2]) "
      ],
      "metadata": {
        "id": "jYtn3HQtpp2y"
      },
      "execution_count": null,
      "outputs": []
    }
  ]
}
{
  "nbformat": 4,
  "nbformat_minor": 0,
  "metadata": {
    "colab": {
      "provenance": [],
      "include_colab_link": true
    },
    "kernelspec": {
      "name": "python3",
      "display_name": "Python 3"
    },
    "language_info": {
      "name": "python"
    }
  },
  "cells": [
    {
      "cell_type": "markdown",
      "metadata": {
        "id": "view-in-github",
        "colab_type": "text"
      },
      "source": [
        "<a href=\"https://colab.research.google.com/github/cras-lab/NLP/blob/main/GPT2-Gen.ipynb\" target=\"_parent\"><img src=\"https://colab.research.google.com/assets/colab-badge.svg\" alt=\"Open In Colab\"/></a>"
      ]
    },
    {
      "cell_type": "markdown",
      "source": [
        "# Hugging Face 라이브러리를 이용하여, GPT2로 텍스트를 생성하는 간단한 예시\n",
        "먼저 트랜스포머 라이브러리를 설치한다."
      ],
      "metadata": {
        "id": "JjtTGCvzLrsk"
      }
    },
    {
      "cell_type": "code",
      "execution_count": 12,
      "metadata": {
        "id": "c3hNrfiDH0et"
      },
      "outputs": [],
      "source": [
        "pip install -q transformers"
      ]
    },
    {
      "cell_type": "markdown",
      "source": [
        "pipeline을 임포트하고, GPT2를 기본 모델로 설정한다."
      ],
      "metadata": {
        "id": "4BF7JAmUL_yj"
      }
    },
    {
      "cell_type": "code",
      "source": [
        "from transformers import pipeline \n",
        "generator = pipeline(task=\"text-generation\", model=\"gpt2\")"
      ],
      "metadata": {
        "id": "XjymtIcKIDoH"
      },
      "execution_count": 13,
      "outputs": []
    },
    {
      "cell_type": "markdown",
      "source": [
        "어떤 문장이든 전달하면, 그 문장에 이어 GPT2가 연속해서 일부 문장을 더 만들어 낸다. 이 문장은 실행할 때마다 다른 문장이 생성된다."
      ],
      "metadata": {
        "id": "ddgxIimDMavd"
      }
    },
    {
      "cell_type": "code",
      "source": [
        "generator(\"Once there lived a lazy big dragon\")"
      ],
      "metadata": {
        "id": "ipPY7R9ZIHrA"
      },
      "execution_count": null,
      "outputs": []
    }
  ]
}
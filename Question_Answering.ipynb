{
  "nbformat": 4,
  "nbformat_minor": 0,
  "metadata": {
    "colab": {
      "provenance": [],
      "authorship_tag": "ABX9TyPzB/wqd+ounjlBOYWmud1X",
      "include_colab_link": true
    },
    "kernelspec": {
      "name": "python3",
      "display_name": "Python 3"
    },
    "language_info": {
      "name": "python"
    }
  },
  "cells": [
    {
      "cell_type": "markdown",
      "metadata": {
        "id": "view-in-github",
        "colab_type": "text"
      },
      "source": [
        "<a href=\"https://colab.research.google.com/github/cras-lab/NLP/blob/main/Question_Answering.ipynb\" target=\"_parent\"><img src=\"https://colab.research.google.com/assets/colab-badge.svg\" alt=\"Open In Colab\"/></a>"
      ]
    },
    {
      "cell_type": "markdown",
      "source": [
        "Hugging Face의 transformers를 설치한다."
      ],
      "metadata": {
        "id": "fMixJWe8n7Wx"
      }
    },
    {
      "cell_type": "code",
      "execution_count": null,
      "metadata": {
        "id": "VuGl-xE3mHew"
      },
      "outputs": [],
      "source": [
        "pip install -q transformers"
      ]
    },
    {
      "cell_type": "markdown",
      "source": [
        "감정분류를 테스트 해보기 위한 문장을 정의한다."
      ],
      "metadata": {
        "id": "iDpNmMfNoFfa"
      }
    },
    {
      "cell_type": "code",
      "source": [
        "text = \"\"\"Dear Amazon, last week I ordered an Optimus Prime action figure \\\n",
        "from your online store in Germany. Unfortunately, when I opened the package, \\\n",
        "I discovered to my horror that I had been sent an action figure of Megatron \\\n",
        "instead! As a lifelong enemy of the Decepticons, I hope you can understand my \\\n",
        "dilemma. To resolve the issue, I demand an exchange of Megatron for the \\\n",
        "Optimus Prime figure I ordered. Enclosed are copies of my records concerning \\\n",
        "this purchase. I expect to hear from you soon. Sincerely, Bumblebee.\"\"\""
      ],
      "metadata": {
        "id": "VeV_-7ummJNw"
      },
      "execution_count": 2,
      "outputs": []
    },
    {
      "cell_type": "markdown",
      "source": [
        "분류작업을 위한 엔진과 필요한 모듈을 불러온다."
      ],
      "metadata": {
        "id": "RoDf1Pl0oPRC"
      }
    },
    {
      "cell_type": "code",
      "source": [
        "from transformers import pipeline\n",
        "import pandas as pd\n",
        "reader = pipeline(\"question-answering\")"
      ],
      "metadata": {
        "id": "rDzG9G0UoKd6"
      },
      "execution_count": null,
      "outputs": []
    },
    {
      "cell_type": "markdown",
      "source": [
        "질문을 던져 적절한 대답을 하는지 확인해 보자."
      ],
      "metadata": {
        "id": "74WoErOcoZsG"
      }
    },
    {
      "cell_type": "code",
      "source": [
        "question = \"What does the customer want ?\"\n",
        "out = reader(question=question, context=text)\n",
        "pd.DataFrame( [out] )"
      ],
      "metadata": {
        "id": "Z7rkmurBreGm"
      },
      "execution_count": null,
      "outputs": []
    },
    {
      "cell_type": "markdown",
      "source": [
        "다른 질문도 해 보자."
      ],
      "metadata": {
        "id": "Hm5_dJoSqyZj"
      }
    },
    {
      "cell_type": "code",
      "source": [
        "q1 = \"what is the name of the customer ?\"\n",
        "q2 = \"When did customer order ?\"\n",
        "out1 = reader(question=q1, context=text)\n",
        "out2 = reader(question=q2, context=text)\n",
        "pd.DataFrame( [out1, out2] )"
      ],
      "metadata": {
        "id": "jYtn3HQtpp2y"
      },
      "execution_count": null,
      "outputs": []
    }
  ]
}
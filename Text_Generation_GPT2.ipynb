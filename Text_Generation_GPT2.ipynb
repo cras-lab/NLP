{
  "nbformat": 4,
  "nbformat_minor": 0,
  "metadata": {
    "colab": {
      "provenance": [],
      "include_colab_link": true
    },
    "kernelspec": {
      "name": "python3",
      "display_name": "Python 3"
    },
    "language_info": {
      "name": "python"
    }
  },
  "cells": [
    {
      "cell_type": "markdown",
      "metadata": {
        "id": "view-in-github",
        "colab_type": "text"
      },
      "source": [
        "<a href=\"https://colab.research.google.com/github/cras-lab/NLP/blob/main/Text_Generation_GPT2.ipynb\" target=\"_parent\"><img src=\"https://colab.research.google.com/assets/colab-badge.svg\" alt=\"Open In Colab\"/></a>"
      ]
    },
    {
      "cell_type": "markdown",
      "source": [
        "# Hugging Face 라이브러리를 이용하여, Text Generation 수행\n",
        "먼저 트랜스포머 라이브러리를 설치한다."
      ],
      "metadata": {
        "id": "lCozl2_oP7kN"
      }
    },
    {
      "cell_type": "code",
      "execution_count": null,
      "metadata": {
        "id": "FvO-Hg3JP4Sx"
      },
      "outputs": [],
      "source": [
        "pip install -q transformers"
      ]
    },
    {
      "cell_type": "markdown",
      "source": [
        "요약을 수행할 문장 정의"
      ],
      "metadata": {
        "id": "3CF3D7G2QHzQ"
      }
    },
    {
      "cell_type": "code",
      "source": [
        "text = \"\"\"Dear Amazon, last week I ordered an Optimus Prime action figure \\\n",
        "from your online store in Germany. Unfortunately, when I opened the package, \\\n",
        "I discovered to my horror that I had been sent an action figure of Megatron \\\n",
        "instead! As a lifelong enemy of the Decepticons, I hope you can understand my \\\n",
        "dilemma. To resolve the issue, I demand an exchange of Megatron for the \\\n",
        "Optimus Prime figure I ordered. Enclosed are copies of my records concerning \\\n",
        "this purchase. I expect to hear from you soon. Sincerely, Bumblebee.\"\"\""
      ],
      "metadata": {
        "id": "EbakNwJIQTDB"
      },
      "execution_count": 8,
      "outputs": []
    },
    {
      "cell_type": "markdown",
      "source": [
        "필요한 모듈 임포트 하기"
      ],
      "metadata": {
        "id": "RhmGsPbOs7Jo"
      }
    },
    {
      "cell_type": "code",
      "source": [
        "from transformers import pipeline"
      ],
      "metadata": {
        "id": "3aw9ArjGtwY6"
      },
      "execution_count": 9,
      "outputs": []
    },
    {
      "cell_type": "markdown",
      "source": [
        "텍스트 생성을 위한 GPT2 엔진 불러오기"
      ],
      "metadata": {
        "id": "99AMSFipt3pD"
      }
    },
    {
      "cell_type": "code",
      "source": [
        "generator = pipeline(task=\"text-generation\", model=\"gpt2\")"
      ],
      "metadata": {
        "id": "0LP18bWCtCEp"
      },
      "execution_count": 19,
      "outputs": []
    },
    {
      "cell_type": "markdown",
      "source": [
        "생성을 위한 첫 문장을  주고, 정확한 전체 문맥을 위해 앞의 글도 입력으로 주기로 한다."
      ],
      "metadata": {
        "id": "HXCyTbRZ3kRr"
      }
    },
    {
      "cell_type": "code",
      "source": [
        "response = \"Dear Bumblebee, I am sorry to hear that your order was mixed up.\"\n",
        "prompt = text + \"\\n\\nCustomer service response:\\n\" + response"
      ],
      "metadata": {
        "id": "4nnhAXBq3k6q"
      },
      "execution_count": 20,
      "outputs": []
    },
    {
      "cell_type": "markdown",
      "source": [
        "실제 텍스트 생성을 출력한 다음 결과를 본다."
      ],
      "metadata": {
        "id": "U9eZV5DM34wg"
      }
    },
    {
      "cell_type": "code",
      "source": [
        "out = generator(prompt, max_length=200)\n",
        "print( out[0]['generated_text'])"
      ],
      "metadata": {
        "id": "Htm2wc4m3pMh"
      },
      "execution_count": null,
      "outputs": []
    }
  ]
}